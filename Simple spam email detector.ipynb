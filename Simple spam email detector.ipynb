{
 "cells": [
  {
   "cell_type": "markdown",
   "id": "a22899a6-f405-47f4-93f7-97680f818856",
   "metadata": {},
   "source": [
    "Step 1: Data Analysis and Preprocessing"
   ]
  },
  {
   "cell_type": "code",
   "execution_count": 2,
   "id": "1ec77d7d-6fc8-4ae2-8f4d-7f493374fc45",
   "metadata": {},
   "outputs": [
    {
     "name": "stdout",
     "output_type": "stream",
     "text": [
      "Dataset shape: (5572, 2)\n",
      "Label distribution:\n",
      "label\n",
      "ham     4825\n",
      "spam     747\n",
      "Name: count, dtype: int64\n",
      "Spam percentage: 13.41%\n"
     ]
    }
   ],
   "source": [
    "import pandas as pd\n",
    "import numpy as np\n",
    "import re\n",
    "import string\n",
    "from sklearn.model_selection import train_test_split\n",
    "from sklearn.feature_extraction.text import TfidfVectorizer\n",
    "from sklearn.linear_model import LogisticRegression\n",
    "from sklearn.metrics import classification_report, confusion_matrix, accuracy_score\n",
    "import matplotlib.pyplot as plt\n",
    "import seaborn as sns\n",
    "\n",
    "# Load the dataset\n",
    "df = pd.read_csv('D:\\\\Machine Learning Dataset\\\\spam.csv', encoding='latin-1')\n",
    "# Clean the dataset - keep only relevant columns\n",
    "df = df[['v1', 'v2']]\n",
    "df.columns = ['label', 'text']\n",
    "\n",
    "print(f\"Dataset shape: {df.shape}\")\n",
    "print(f\"Label distribution:\\n{df['label'].value_counts()}\")\n",
    "print(f\"Spam percentage: {df['label'].value_counts()['spam']/len(df)*100:.2f}%\")"
   ]
  },
  {
   "cell_type": "markdown",
   "id": "efe817ef-ce40-4bef-a340-41979793083c",
   "metadata": {},
   "source": [
    "Step 2: Text Preprocessing Function"
   ]
  },
  {
   "cell_type": "code",
   "execution_count": 3,
   "id": "07c3cc47-4f6e-407c-8162-4ba87f75d9b2",
   "metadata": {},
   "outputs": [
    {
     "name": "stdout",
     "output_type": "stream",
     "text": [
      "Sample preprocessed texts:\n",
      "                                                text  \\\n",
      "0  Go until jurong point, crazy.. Available only ...   \n",
      "1                      Ok lar... Joking wif u oni...   \n",
      "2  Free entry in 2 a wkly comp to win FA Cup fina...   \n",
      "3  U dun say so early hor... U c already then say...   \n",
      "4  Nah I don't think he goes to usf, he lives aro...   \n",
      "\n",
      "                                        cleaned_text  \n",
      "0  go until jurong point crazy available only in ...  \n",
      "1                            ok lar joking wif u oni  \n",
      "2  free entry in a wkly comp to win fa cup final ...  \n",
      "3        u dun say so early hor u c already then say  \n",
      "4  nah i dont think he goes to usf he lives aroun...  \n"
     ]
    }
   ],
   "source": [
    "def preprocess_text(text):\n",
    "    \"\"\"\n",
    "    Clean and preprocess text data\n",
    "    \"\"\"\n",
    "    if pd.isna(text):\n",
    "        return \"\"\n",
    "    \n",
    "    # Convert to lowercase\n",
    "    text = text.lower()\n",
    "    \n",
    "    # Remove special characters and digits\n",
    "    text = re.sub(r'[^a-zA-Z\\s]', '', text)\n",
    "    \n",
    "    # Remove extra whitespace\n",
    "    text = re.sub(r'\\s+', ' ', text).strip()\n",
    "    \n",
    "    return text\n",
    "\n",
    "# Apply preprocessing\n",
    "df['cleaned_text'] = df['text'].apply(preprocess_text)\n",
    "\n",
    "# Convert labels to binary (spam=1, ham=0)\n",
    "df['label_binary'] = df['label'].map({'spam': 1, 'ham': 0})\n",
    "\n",
    "print(\"Sample preprocessed texts:\")\n",
    "print(df[['text', 'cleaned_text']].head())"
   ]
  },
  {
   "cell_type": "markdown",
   "id": "58e7e91b-f874-4a93-bfb4-338811c5aad4",
   "metadata": {},
   "source": [
    "Step 3: Feature Extraction using TF-IDF"
   ]
  },
  {
   "cell_type": "code",
   "execution_count": 5,
   "id": "49aeb490-583c-418e-8a1f-e1ea2785ae09",
   "metadata": {},
   "outputs": [
    {
     "name": "stdout",
     "output_type": "stream",
     "text": [
      "Training features shape: (4457, 5000)\n",
      "Testing features shape: (1115, 5000)\n"
     ]
    }
   ],
   "source": [
    "# Split the data\n",
    "X_train, X_test, y_train, y_test = train_test_split(\n",
    "    df['cleaned_text'], df['label_binary'], \n",
    "    test_size=0.2, random_state=42, stratify=df['label_binary']\n",
    ")\n",
    "\n",
    "# Create TF-IDF features\n",
    "tfidf_vectorizer = TfidfVectorizer(\n",
    "    max_features=5000,  # Limit vocabulary size\n",
    "    stop_words='english',\n",
    "    ngram_range=(1, 2)  # Use unigrams and bigrams\n",
    ")\n",
    "\n",
    "X_train_tfidf = tfidf_vectorizer.fit_transform(X_train)\n",
    "X_test_tfidf = tfidf_vectorizer.transform(X_test)\n",
    "\n",
    "print(f\"Training features shape: {X_train_tfidf.shape}\")\n",
    "print(f\"Testing features shape: {X_test_tfidf.shape}\")"
   ]
  },
  {
   "cell_type": "markdown",
   "id": "a0de8762-baef-4a35-89d5-15479e815b38",
   "metadata": {},
   "source": [
    "Step 4: Model Training and Evaluation"
   ]
  },
  {
   "cell_type": "code",
   "execution_count": 6,
   "id": "8c32da9c-15a4-447a-b538-82a524625671",
   "metadata": {},
   "outputs": [
    {
     "name": "stdout",
     "output_type": "stream",
     "text": [
      "Accuracy: 0.9668\n",
      "\n",
      "Classification Report:\n",
      "              precision    recall  f1-score   support\n",
      "\n",
      "         ham       0.96      1.00      0.98       966\n",
      "        spam       0.99      0.76      0.86       149\n",
      "\n",
      "    accuracy                           0.97      1115\n",
      "   macro avg       0.98      0.88      0.92      1115\n",
      "weighted avg       0.97      0.97      0.96      1115\n",
      "\n"
     ]
    },
    {
     "data": {
      "image/png": "[encoded data removed]",
      "text/plain": [
       "<Figure size 800x600 with 2 Axes>"
      ]
     },
     "metadata": {},
     "output_type": "display_data"
    }
   ],
   "source": [
    "# Train Logistic Regression model\n",
    "model = LogisticRegression(random_state=42, max_iter=1000)\n",
    "model.fit(X_train_tfidf, y_train)\n",
    "\n",
    "# Make predictions\n",
    "y_pred = model.predict(X_test_tfidf)\n",
    "y_pred_proba = model.predict_proba(X_test_tfidf)[:, 1]\n",
    "\n",
    "# Evaluate the model\n",
    "accuracy = accuracy_score(y_test, y_pred)\n",
    "print(f\"Accuracy: {accuracy:.4f}\")\n",
    "print(\"\\nClassification Report:\")\n",
    "print(classification_report(y_test, y_pred, target_names=['ham', 'spam']))\n",
    "\n",
    "# Confusion Matrix\n",
    "plt.figure(figsize=(8, 6))\n",
    "cm = confusion_matrix(y_test, y_pred)\n",
    "sns.heatmap(cm, annot=True, fmt='d', cmap='Blues', \n",
    "            xticklabels=['ham', 'spam'], yticklabels=['ham', 'spam'])\n",
    "plt.title('Confusion Matrix')\n",
    "plt.ylabel('Actual')\n",
    "plt.xlabel('Predicted')\n",
    "plt.show()"
   ]
  },
  {
   "cell_type": "markdown",
   "id": "fad81368-535b-4cb6-b7c7-6b79883c2239",
   "metadata": {},
   "source": [
    "Step 5: Model Interpretation"
   ]
  },
  {
   "cell_type": "code",
   "execution_count": 7,
   "id": "28939fae-d64f-4f3e-8179-7fe5076aced2",
   "metadata": {},
   "outputs": [
    {
     "name": "stdout",
     "output_type": "stream",
     "text": [
      "Top words associated with spam:\n",
      "      feature  coefficient\n",
      "4584      txt     4.976339\n",
      "660     claim     3.812431\n",
      "2533   mobile     3.404047\n",
      "1314     free     3.279014\n",
      "3601    reply     3.269757\n",
      "4420     text     3.216486\n",
      "4286     stop     2.869793\n",
      "3901  service     2.801768\n",
      "3353    prize     2.795310\n",
      "4881      won     2.720405\n"
     ]
    }
   ],
   "source": [
    "# Get feature importance (words most associated with spam)\n",
    "feature_names = tfidf_vectorizer.get_feature_names_out()\n",
    "coefficients = model.coef_[0]\n",
    "\n",
    "# Create a DataFrame of feature importance\n",
    "feature_importance = pd.DataFrame({\n",
    "    'feature': feature_names,\n",
    "    'coefficient': coefficients\n",
    "})\n",
    "\n",
    "# Sort by absolute coefficient value (importance)\n",
    "feature_importance['abs_coef'] = np.abs(feature_importance['coefficient'])\n",
    "top_spam_words = feature_importance.nlargest(10, 'abs_coef')\n",
    "\n",
    "print(\"Top words associated with spam:\")\n",
    "print(top_spam_words[['feature', 'coefficient']])"
   ]
  },
  {
   "cell_type": "markdown",
   "id": "2a8309fd-4045-40a6-9987-80879e3369ae",
   "metadata": {},
   "source": [
    "Step 6: Testing on New/Unseen Data"
   ]
  },
  {
   "cell_type": "code",
   "execution_count": 8,
   "id": "a348abd6-635f-4d7d-8b25-daeaceebaf0b",
   "metadata": {},
   "outputs": [
    {
     "name": "stdout",
     "output_type": "stream",
     "text": [
      "\n",
      "Testing on new emails:\n",
      "==================================================\n",
      "Email 1: SPAM (confidence: 0.7596)\n",
      "Text: Congratulations! You've won a $1000 prize! Call now to claim....\n",
      "------------------------------\n",
      "Email 2: HAM (confidence: 0.0250)\n",
      "Text: Hey, are we still meeting for lunch tomorrow?...\n",
      "------------------------------\n",
      "Email 3: SPAM (confidence: 0.8488)\n",
      "Text: Free entry to win a luxury car! Text YES to claim your prize....\n",
      "------------------------------\n",
      "Email 4: HAM (confidence: 0.0387)\n",
      "Text: Hi mom, just checking in to see how you're doing....\n",
      "------------------------------\n",
      "Email 5: HAM (confidence: 0.3738)\n",
      "Text: URGENT: Your account has been compromised. Click here to secure it....\n",
      "------------------------------\n"
     ]
    }
   ],
   "source": [
    "def predict_spam(email_text, model, vectorizer, threshold=0.5):\n",
    "    \"\"\"\n",
    "    Predict if an email is spam\n",
    "    \"\"\"\n",
    "    # Preprocess the text\n",
    "    cleaned_text = preprocess_text(email_text)\n",
    "    \n",
    "    # Transform using TF-IDF\n",
    "    text_tfidf = vectorizer.transform([cleaned_text])\n",
    "    \n",
    "    # Get prediction probability\n",
    "    spam_probability = model.predict_proba(text_tfidf)[0, 1]\n",
    "    \n",
    "    # Make prediction based on threshold\n",
    "    prediction = \"spam\" if spam_probability > threshold else \"ham\"\n",
    "    \n",
    "    return prediction, spam_probability\n",
    "\n",
    "# Test with some example emails\n",
    "test_emails = [\n",
    "    \"Congratulations! You've won a $1000 prize! Call now to claim.\",\n",
    "    \"Hey, are we still meeting for lunch tomorrow?\",\n",
    "    \"Free entry to win a luxury car! Text YES to claim your prize.\",\n",
    "    \"Hi mom, just checking in to see how you're doing.\",\n",
    "    \"URGENT: Your account has been compromised. Click here to secure it.\"\n",
    "]\n",
    "\n",
    "print(\"\\nTesting on new emails:\")\n",
    "print(\"=\" * 50)\n",
    "for i, email in enumerate(test_emails, 1):\n",
    "    prediction, probability = predict_spam(email, model, tfidf_vectorizer)\n",
    "    print(f\"Email {i}: {prediction.upper()} (confidence: {probability:.4f})\")\n",
    "    print(f\"Text: {email[:100]}...\")\n",
    "    print(\"-\" * 30)"
   ]
  },
  {
   "cell_type": "markdown",
   "id": "1fbbc3dd-6d5b-4d98-912f-e6a80c524323",
   "metadata": {},
   "source": [
    "Step 7: Model Optimization (Optional)"
   ]
  },
  {
   "cell_type": "code",
   "execution_count": 10,
   "id": "12be2308-4956-4e7e-9aa4-21629d3ebec2",
   "metadata": {},
   "outputs": [
    {
     "name": "stdout",
     "output_type": "stream",
     "text": [
      "Best parameters: {'C': 100, 'penalty': 'l1', 'solver': 'liblinear'}\n",
      "Best cross-validation score: 0.718125449393055\n",
      "Optimized model accuracy: 0.9767\n"
     ]
    }
   ],
   "source": [
    "from sklearn.model_selection import GridSearchCV\n",
    "\n",
    "# Hyperparameter tuning\n",
    "param_grid = {\n",
    "    'C': [0.1, 1, 10, 100],\n",
    "    'penalty': ['l1', 'l2'],\n",
    "    'solver': ['liblinear']\n",
    "}\n",
    "\n",
    "# Use a smaller subset for faster grid search\n",
    "X_train_small = X_train_tfidf[:1000]  # Use first 1000 samples for speed\n",
    "y_train_small = y_train[:1000]\n",
    "\n",
    "grid_search = GridSearchCV(\n",
    "    LogisticRegression(random_state=42, max_iter=1000),\n",
    "    param_grid,\n",
    "    cv=3,\n",
    "    scoring='f1',\n",
    "    n_jobs=-1\n",
    ")\n",
    "\n",
    "grid_search.fit(X_train_small, y_train_small)\n",
    "\n",
    "print(\"Best parameters:\", grid_search.best_params_)\n",
    "print(\"Best cross-validation score:\", grid_search.best_score_)\n",
    "\n",
    "# Train final model with best parameters\n",
    "best_model = grid_search.best_estimator_\n",
    "best_model.fit(X_train_tfidf, y_train)\n",
    "\n",
    "# Evaluate optimized model\n",
    "y_pred_optimized = best_model.predict(X_test_tfidf)\n",
    "optimized_accuracy = accuracy_score(y_test, y_pred_optimized)\n",
    "print(f\"Optimized model accuracy: {optimized_accuracy:.4f}\")"
   ]
  },
  {
   "cell_type": "code",
   "execution_count": null,
   "id": "4ffa4918-1ffc-4baa-a552-ce21f0a6dcb1",
   "metadata": {},
   "outputs": [],
   "source": []
  }
 ],
 "metadata": {
  "kernelspec": {
   "display_name": "my_env",
   "language": "python",
   "name": "my_env"
  },
  "language_info": {
   "codemirror_mode": {
    "name": "ipython",
    "version": 3
   },
   "file_extension": ".py",
   "mimetype": "text/x-python",
   "name": "python",
   "nbconvert_exporter": "python",
   "pygments_lexer": "ipython3",
   "version": "3.13.2"
  }
 },
 "nbformat": 4,
 "nbformat_minor": 5
}
